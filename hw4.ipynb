{
 "cells": [
  {
   "cell_type": "code",
   "execution_count": 115,
   "id": "3594a377-c30c-494d-a1bd-9b861adb9cdc",
   "metadata": {},
   "outputs": [
    {
     "name": "stdout",
     "output_type": "stream",
     "text": [
      "['쌍', '쇠', '복', '돌', '팽', '육', '쌍', '개', '칠', '갑', '삼', '방']\n"
     ]
    }
   ],
   "source": [
    "month = ['쌍', '쇠', '복', '돌', '팽', '육', '쌍', '개', '칠', '갑', '삼', '방']\n",
    "print(month)"
   ]
  },
  {
   "cell_type": "code",
   "execution_count": 116,
   "id": "8390e71f-a7f6-43c2-a5af-0cf1e32908ce",
   "metadata": {},
   "outputs": [
    {
     "name": "stdout",
     "output_type": "stream",
     "text": [
      "['봉', '구', '욕', '포', '똥', '삼', '식', '석', '놈', '님', '년', '돌', '단', '득', '방', '질', '장', '걸', '래', '룡', '동', '순', '자', '박', '창', '언', '것', '포', '만', '단', '국']\n"
     ]
    }
   ],
   "source": [
    "day =['봉', '구', '욕', '포', '똥', '삼', '식', '석', '놈', '님', '년', '돌', '단', '득', '방', '질', '장', '걸', '래', '룡', '동', '순', '자', '박', '창', '언', '것', '포', '만', '단', '국']\n",
    "print(day)"
   ]
  },
  {
   "cell_type": "code",
   "execution_count": 117,
   "id": "5391e726-0bd9-4dc9-8c88-b9a8cf4db1b9",
   "metadata": {},
   "outputs": [
    {
     "data": {
      "text/plain": [
       "'쇠'"
      ]
     },
     "execution_count": 117,
     "metadata": {},
     "output_type": "execute_result"
    }
   ],
   "source": [
    "month[1]"
   ]
  },
  {
   "cell_type": "code",
   "execution_count": 118,
   "id": "195ae962-2edd-46aa-a390-986871798248",
   "metadata": {},
   "outputs": [
    {
     "data": {
      "text/plain": [
       "'순'"
      ]
     },
     "execution_count": 118,
     "metadata": {},
     "output_type": "execute_result"
    }
   ],
   "source": [
    "day[21]"
   ]
  },
  {
   "cell_type": "code",
   "execution_count": 122,
   "id": "212bd5f1-9a57-43aa-bce8-5977241095ac",
   "metadata": {},
   "outputs": [
    {
     "name": "stdout",
     "output_type": "stream",
     "text": [
      "쇠\n"
     ]
    }
   ],
   "source": [
    "month = [month[i] for i in range(13)]\n",
    "print(month[2])"
   ]
  },
  {
   "cell_type": "code",
   "execution_count": 151,
   "id": "082b01d4-7118-4f82-a12d-e9c8c6af8fc4",
   "metadata": {},
   "outputs": [
    {
     "ename": "SyntaxError",
     "evalue": "invalid syntax (3657797345.py, line 3)",
     "output_type": "error",
     "traceback": [
      "\u001b[1;36m  Input \u001b[1;32mIn [151]\u001b[1;36m\u001b[0m\n\u001b[1;33m    return print(\"당신의 조선시대 이름은\" + %s%s%s % family_name,month,day)\u001b[0m\n\u001b[1;37m                                  ^\u001b[0m\n\u001b[1;31mSyntaxError\u001b[0m\u001b[1;31m:\u001b[0m invalid syntax\n"
     ]
    }
   ],
   "source": [
    "def get_my_chosun_name(family_name,month,day):\n",
    "    \n",
    "    return print(\"당신의 조선시대 이름은\" %s%s%s  % family_name,month,day)"
   ]
  },
  {
   "cell_type": "code",
   "execution_count": 152,
   "id": "a5bad67c-385a-44a4-8989-64b28ab1b674",
   "metadata": {},
   "outputs": [
    {
     "ename": "TypeError",
     "evalue": "can only concatenate str (not \"int\") to str",
     "output_type": "error",
     "traceback": [
      "\u001b[1;31m---------------------------------------------------------------------------\u001b[0m",
      "\u001b[1;31mTypeError\u001b[0m                                 Traceback (most recent call last)",
      "Input \u001b[1;32mIn [152]\u001b[0m, in \u001b[0;36m<cell line: 1>\u001b[1;34m()\u001b[0m\n\u001b[1;32m----> 1\u001b[0m \u001b[43mget_my_chosun_name\u001b[49m\u001b[43m(\u001b[49m\u001b[38;5;124;43m'\u001b[39;49m\u001b[38;5;124;43m양\u001b[39;49m\u001b[38;5;124;43m'\u001b[39;49m\u001b[43m,\u001b[49m\u001b[38;5;241;43m2\u001b[39;49m\u001b[43m,\u001b[49m\u001b[38;5;241;43m22\u001b[39;49m\u001b[43m)\u001b[49m\n",
      "Input \u001b[1;32mIn [149]\u001b[0m, in \u001b[0;36mget_my_chosun_name\u001b[1;34m(family_name, month, day)\u001b[0m\n\u001b[0;32m      1\u001b[0m \u001b[38;5;28;01mdef\u001b[39;00m \u001b[38;5;21mget_my_chosun_name\u001b[39m(family_name,month,day):\n\u001b[1;32m----> 3\u001b[0m     \u001b[38;5;28;01mreturn\u001b[39;00m \u001b[38;5;28mprint\u001b[39m(\u001b[38;5;124m\"\u001b[39m\u001b[38;5;124m당신의 조선시대 이름은\u001b[39m\u001b[38;5;124m\"\u001b[39m \u001b[38;5;241m+\u001b[39m \u001b[38;5;28mstr\u001b[39m(\u001b[43mfamily_name\u001b[49m\u001b[38;5;241;43m+\u001b[39;49m\u001b[43m \u001b[49m\u001b[43mmonth\u001b[49m \u001b[38;5;241m+\u001b[39mday))\n",
      "\u001b[1;31mTypeError\u001b[0m: can only concatenate str (not \"int\") to str"
     ]
    }
   ],
   "source": [
    "get_my_chosun_name('양',2,22)"
   ]
  },
  {
   "cell_type": "code",
   "execution_count": null,
   "id": "a322a12b-2ead-4e57-be04-e05afd6e39fc",
   "metadata": {},
   "outputs": [],
   "source": []
  }
 ],
 "metadata": {
  "kernelspec": {
   "display_name": "Python 3 (ipykernel)",
   "language": "python",
   "name": "python3"
  },
  "language_info": {
   "codemirror_mode": {
    "name": "ipython",
    "version": 3
   },
   "file_extension": ".py",
   "mimetype": "text/x-python",
   "name": "python",
   "nbconvert_exporter": "python",
   "pygments_lexer": "ipython3",
   "version": "3.9.12"
  }
 },
 "nbformat": 4,
 "nbformat_minor": 5
}
