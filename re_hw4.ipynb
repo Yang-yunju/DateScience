{
 "cells": [
  {
   "cell_type": "code",
   "execution_count": 15,
   "id": "3594a377-c30c-494d-a1bd-9b861adb9cdc",
   "metadata": {},
   "outputs": [
    {
     "name": "stdout",
     "output_type": "stream",
     "text": [
      "['쌍', '쇠', '복', '돌', '팽', '육', '쌍', '개', '칠', '갑', '삼', '방']\n"
     ]
    }
   ],
   "source": [
    "month_lst = ['쌍', '쇠', '복', '돌', '팽', '육', '쌍', '개', '칠', '갑', '삼', '방']\n",
    "print(month_lst)"
   ]
  },
  {
   "cell_type": "code",
   "execution_count": 16,
   "id": "8390e71f-a7f6-43c2-a5af-0cf1e32908ce",
   "metadata": {},
   "outputs": [
    {
     "name": "stdout",
     "output_type": "stream",
     "text": [
      "['봉', '구', '욕', '포', '똥', '삼', '식', '석', '놈', '님', '년', '돌', '단', '득', '방', '질', '장', '걸', '래', '룡', '동', '순', '자', '박', '창', '언', '것', '포', '만', '단', '국']\n"
     ]
    }
   ],
   "source": [
    "day_lst =['봉', '구', '욕', '포', '똥', '삼', '식', '석', '놈', '님', '년', '돌', '단', '득', '방', '질', '장', '걸', '래', '룡', '동', '순', '자', '박', '창', '언', '것', '포', '만', '단', '국']\n",
    "print(day_lst)"
   ]
  },
  {
   "cell_type": "code",
   "execution_count": 17,
   "id": "082b01d4-7118-4f82-a12d-e9c8c6af8fc4",
   "metadata": {},
   "outputs": [],
   "source": [
    "def get_my_chosun_name(family_name,month,day):\n",
    "    char_two = month_lst[month-1]\n",
    "    char_three = day_lst[day-1]\n",
    "    return print(\"당신의 조선시대 이름은 %s%s%s 입니다\" % (family_name, char_two,char_three))"
   ]
  },
  {
   "cell_type": "code",
   "execution_count": 20,
   "id": "a5bad67c-385a-44a4-8989-64b28ab1b674",
   "metadata": {},
   "outputs": [
    {
     "name": "stdout",
     "output_type": "stream",
     "text": [
      "당신의 조선시대 이름은 양쇠순 입니다\n"
     ]
    }
   ],
   "source": [
    "get_my_chosun_name('양',2,22)"
   ]
  },
  {
   "cell_type": "code",
   "execution_count": null,
   "id": "a322a12b-2ead-4e57-be04-e05afd6e39fc",
   "metadata": {},
   "outputs": [],
   "source": []
  }
 ],
 "metadata": {
  "kernelspec": {
   "display_name": "Python 3 (ipykernel)",
   "language": "python",
   "name": "python3"
  },
  "language_info": {
   "codemirror_mode": {
    "name": "ipython",
    "version": 3
   },
   "file_extension": ".py",
   "mimetype": "text/x-python",
   "name": "python",
   "nbconvert_exporter": "python",
   "pygments_lexer": "ipython3",
   "version": "3.9.12"
  }
 },
 "nbformat": 4,
 "nbformat_minor": 5
}
